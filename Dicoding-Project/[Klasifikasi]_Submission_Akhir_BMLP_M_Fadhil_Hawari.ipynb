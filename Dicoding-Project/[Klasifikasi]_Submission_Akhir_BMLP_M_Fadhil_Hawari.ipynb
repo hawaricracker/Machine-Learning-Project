{
  "cells": [
    {
      "cell_type": "markdown",
      "metadata": {
        "id": "fKADPWcFKlj3"
      },
      "source": [
        "# **1. Import Library**"
      ]
    },
    {
      "cell_type": "markdown",
      "metadata": {
        "id": "LgA3ERnVn84N"
      },
      "source": [
        "Pada tahap ini, Anda perlu mengimpor beberapa pustaka (library) Python yang dibutuhkan untuk analisis data dan pembangunan model machine learning."
      ]
    },
    {
      "cell_type": "code",
      "execution_count": 2,
      "metadata": {
        "id": "BlmvjLY9M4Yj"
      },
      "outputs": [],
      "source": [
        "import pandas as pd\n",
        "from sklearn.model_selection import train_test_split\n",
        "from sklearn.neighbors import KNeighborsClassifier\n",
        "from sklearn.tree import DecisionTreeClassifier\n",
        "from sklearn.ensemble import RandomForestClassifier\n",
        "from sklearn.svm import SVC\n",
        "from sklearn.naive_bayes import GaussianNB\n",
        "from sklearn.metrics import confusion_matrix, accuracy_score, precision_score, recall_score, f1_score\n",
        "from sklearn.metrics import classification_report"
      ]
    },
    {
      "cell_type": "markdown",
      "metadata": {
        "id": "f3YIEnAFKrKL"
      },
      "source": [
        "# **2. Memuat Dataset dari Hasil Clustering**"
      ]
    },
    {
      "cell_type": "markdown",
      "metadata": {
        "id": "Ey3ItwTen_7E"
      },
      "source": [
        "Memuat dataset hasil clustering dari file CSV ke dalam variabel DataFrame."
      ]
    },
    {
      "cell_type": "code",
      "execution_count": 3,
      "metadata": {
        "id": "GHCGNTyrM5fS"
      },
      "outputs": [],
      "source": [
        "#ini load data hasil clustering\n",
        "df = pd.read_csv('Beverage_cluster_normalized.csv')"
      ]
    },
    {
      "cell_type": "markdown",
      "metadata": {
        "id": "KkPem5eWL2UP"
      },
      "source": [
        "# **3. Data Splitting**"
      ]
    },
    {
      "cell_type": "markdown",
      "metadata": {
        "id": "YYj1rl_JNI9Y"
      },
      "source": [
        "Tahap Data Splitting bertujuan untuk memisahkan dataset menjadi dua bagian: data latih (training set) dan data uji (test set)."
      ]
    },
    {
      "cell_type": "code",
      "execution_count": 4,
      "metadata": {
        "id": "OubAW-7ONKVj"
      },
      "outputs": [],
      "source": [
        "#ini untuk bagian data splitting sudah dilakukan\n",
        "x = df.drop(columns=['Cluster'])\n",
        "y = df['Cluster']\n",
        "x_train, x_test, y_train, y_test = train_test_split(x, y, test_size=0.3, random_state=1)"
      ]
    },
    {
      "cell_type": "markdown",
      "metadata": {
        "id": "IVPbB03CMhTT"
      },
      "source": [
        "# **4. Membangun Model Klasifikasi**\n"
      ]
    },
    {
      "cell_type": "markdown",
      "metadata": {
        "id": "Ned1pL9zMmBK"
      },
      "source": [
        "## **a. Membangun Model Klasifikasi**"
      ]
    },
    {
      "cell_type": "markdown",
      "metadata": {
        "id": "WAWzPOE4Nkti"
      },
      "source": [
        "Setelah memilih algoritma klasifikasi yang sesuai, langkah selanjutnya adalah melatih model menggunakan data latih.\n",
        "\n",
        "Berikut adalah rekomendasi tahapannya.\n",
        "1. Pilih algoritma klasifikasi yang sesuai, seperti Logistic Regression, Decision Tree, Random Forest, atau K-Nearest Neighbors (KNN).\n",
        "2. Latih model menggunakan data latih."
      ]
    },
    {
      "cell_type": "code",
      "execution_count": 5,
      "metadata": {
        "id": "4JYxBe87NLDk"
      },
      "outputs": [],
      "source": [
        "knn = KNeighborsClassifier().fit(x_train, y_train)\n",
        "dt = DecisionTreeClassifier().fit(x_train, y_train)\n",
        "rf = RandomForestClassifier().fit(x_train, y_train)\n",
        "svm = SVC().fit(x_train, y_train)\n",
        "nb = GaussianNB().fit(x_train, y_train)"
      ]
    },
    {
      "cell_type": "markdown",
      "metadata": {
        "id": "seYoHNY3XU1y"
      },
      "source": [
        "Disini saya menggunakan 5 algoritma berbeda yang umum digunakan dalam klasifikasi untuk menentukan mana algoritma terbaik untuk dataset ini\n",
        "- KNN : Algoritma ini merupakan algoritma yang melakukan klasifikasi berdasarkan kedekatannya dengan data yang sudah diberi label, kekurangannya yang utama algoritma ini membutuhkan daya komputasi yang besar dan sensitif terhadap noise.\n",
        "- Decision Tree : Algoritma ini membagi data menjadi subset yang lebih kecil berdasarkan fitur tertentu hingga mencapai keputusan akhir di node daun,\n",
        "algoritma ini cocok untuk data numerik dan kategorikal namun sensitif terhadpa noise.\n",
        "- Random Forest : Algoritma ini merupakan gabungan dari beberapa Decision tree dan hasil akhir ditentukan melalui voting atau rata-rata, keunggulan algoritma ini adalah robust terhadap overfitting dan kekurangannya membutuhkan memori yang besar.\n",
        "- SVM : Algoritma ini bekerja dengan cara mencari hyperplane yang optimal untuk memisahkan data ke dalam kelas-kelas yang berbeda, algoritma ini efektif pada dimensi tinggi namun membutuhkan banyak memori dan sulit untuk interpretasi model\n",
        "- Naive Bayes : Algoritma ini adalah algoritma berbasis probabilitas yang berdasarkan pada teorema bayes, algoritma ini dapat menangani data besar tanpa memerlukan banyak sumber daya komputasi, kekurangannya algoritma ini mengasumsikan setiap fitur independen dan tidak terkait.\n"
      ]
    },
    {
      "cell_type": "markdown",
      "metadata": {
        "id": "ergzChZFEL-O"
      },
      "source": [
        "## **b. Evaluasi Model Klasifikasi**"
      ]
    },
    {
      "cell_type": "markdown",
      "metadata": {
        "id": "zOm68u-7NpLT"
      },
      "source": [
        "Berikut adalah **rekomendasi** tahapannya.\n",
        "1. Lakukan prediksi menggunakan data uji.\n",
        "2. Hitung metrik evaluasi seperti Accuracy dan F1-Score (Opsional: Precision dan Recall).\n",
        "3. Buat confusion matrix untuk melihat detail prediksi benar dan salah."
      ]
    },
    {
      "cell_type": "code",
      "execution_count": 6,
      "metadata": {
        "id": "tMq4QAssNLip"
      },
      "outputs": [
        {
          "name": "stdout",
          "output_type": "stream",
          "text": [
            "Train Score\n",
            "                          Model  Accuracy  Precision    Recall  F1-Score\n",
            "0     K-Nearest Neighbors (KNN)  0.992892   0.992905  0.992892  0.992894\n",
            "1            Decision Tree (DT)  1.000000   1.000000  1.000000  1.000000\n",
            "2            Random Forest (RF)  1.000000   1.000000  1.000000  1.000000\n",
            "3  Support Vector Machine (SVM)  0.990111   0.990133  0.990111  0.990113\n",
            "4              Naive Bayes (NB)  0.983622   0.983714  0.983622  0.983610\n",
            "Test Score\n",
            "                          Model  Accuracy  Precision    Recall  F1-Score\n",
            "0     K-Nearest Neighbors (KNN)  0.980173   0.980232  0.980173  0.980176\n",
            "1            Decision Tree (DT)  0.995674   0.995679  0.995674  0.995674\n",
            "2            Random Forest (RF)  0.995314   0.995326  0.995314  0.995313\n",
            "3  Support Vector Machine (SVM)  0.986662   0.986683  0.986662  0.986662\n",
            "4              Naive Bayes (NB)  0.980534   0.980572  0.980534  0.980519\n"
          ]
        }
      ],
      "source": [
        "def evaluate_model(model, x_test, y_test):\n",
        "    y_pred = model.predict(x_test)\n",
        "    cm = confusion_matrix(y_test, y_pred)\n",
        "    report = classification_report(y_test, y_pred, output_dict=True)\n",
        "    results = {\n",
        "        'Confusion Matrix': cm,\n",
        "        'Accuracy': accuracy_score(y_test, y_pred),\n",
        "        'Precision': report['weighted avg']['precision'],\n",
        "        'Recall': report['weighted avg']['recall'],\n",
        "        'F1-Score': report['weighted avg']['f1-score']\n",
        "    }\n",
        "    return results\n",
        "\n",
        "results_test = {\n",
        "    'K-Nearest Neighbors (KNN)': evaluate_model(knn, x_test, y_test),\n",
        "    'Decision Tree (DT)': evaluate_model(dt, x_test, y_test),\n",
        "    'Random Forest (RF)': evaluate_model(rf, x_test, y_test),\n",
        "    'Support Vector Machine (SVM)': evaluate_model(svm, x_test, y_test),\n",
        "    'Naive Bayes (NB)': evaluate_model(nb, x_test, y_test)\n",
        "}\n",
        "\n",
        "results_train = {\n",
        "    'K-Nearest Neighbors (KNN)': evaluate_model(knn, x_train, y_train),\n",
        "    'Decision Tree (DT)': evaluate_model(dt, x_train, y_train),\n",
        "    'Random Forest (RF)': evaluate_model(rf, x_train, y_train),\n",
        "    'Support Vector Machine (SVM)': evaluate_model(svm, x_train, y_train),\n",
        "    'Naive Bayes (NB)': evaluate_model(nb, x_train, y_train)\n",
        "}\n",
        "\n",
        "summary_df = pd.DataFrame(columns=['Model', 'Accuracy', 'Precision', 'Recall', 'F1-Score'])\n",
        "\n",
        "rows = []\n",
        "print('Train Score')\n",
        "for model_name, metrics in results_train.items():\n",
        "    rows.append({\n",
        "        'Model': model_name,\n",
        "        'Accuracy': metrics['Accuracy'],\n",
        "        'Precision': metrics['Precision'],\n",
        "        'Recall': metrics['Recall'],\n",
        "        'F1-Score': metrics['F1-Score']\n",
        "    })\n",
        " \n",
        "summary_df = pd.DataFrame(rows)\n",
        " \n",
        "print(summary_df)\n",
        "\n",
        "rows = []\n",
        "print('Test Score')\n",
        "for model_name, metrics in results_test.items():\n",
        "    rows.append({\n",
        "        'Model': model_name,\n",
        "        'Accuracy': metrics['Accuracy'],\n",
        "        'Precision': metrics['Precision'],\n",
        "        'Recall': metrics['Recall'],\n",
        "        'F1-Score': metrics['F1-Score']\n",
        "    })\n",
        " \n",
        "summary_df = pd.DataFrame(rows)\n",
        " \n",
        "print(summary_df)"
      ]
    },
    {
      "cell_type": "markdown",
      "metadata": {
        "id": "H4_9OwrsXZlz"
      },
      "source": [
        "Hasil evaluasi model menunjukkan bahwa secara keseluruhan semua model menunjukkan hasil yang cukup baik dengan akurasi minimum sebesar 0.98 dan akurasi maksimum sebesar 0.99 pada Test Score, perbandingan Train score terhadap Test score juga menghasilkan selisih yang kecil di keseluruhan model yang mengindikasikan tidak adanya overfitting berlebih maupun underfitting. Dari hasil evaluasi menunjukkan bahwa algoritma decision tree mendapatkan score tertinggi mungkin dikarenakan sebagian besar fitur merupakan jenis kategorikal"
      ]
    },
    {
      "cell_type": "markdown",
      "metadata": {
        "id": "ph9yIYDXEPuB"
      },
      "source": [
        "## **c. Tuning Model Klasifikasi (Optional)**"
      ]
    },
    {
      "cell_type": "markdown",
      "metadata": {
        "id": "-Bikx3LINv5e"
      },
      "source": [
        "Gunakan GridSearchCV, RandomizedSearchCV, atau metode lainnya untuk mencari kombinasi hyperparameter terbaik"
      ]
    },
    {
      "cell_type": "code",
      "execution_count": 7,
      "metadata": {
        "id": "winbFzb8NL95"
      },
      "outputs": [],
      "source": [
        "#Type your code here"
      ]
    },
    {
      "cell_type": "markdown",
      "metadata": {
        "id": "hE7pqlEPEYzI"
      },
      "source": [
        "## **d. Evaluasi Model Klasifikasi setelah Tuning (Optional)**"
      ]
    },
    {
      "cell_type": "markdown",
      "metadata": {
        "id": "feaPESoeN0zz"
      },
      "source": [
        "Berikut adalah rekomendasi tahapannya.\n",
        "1. Gunakan model dengan hyperparameter terbaik.\n",
        "2. Hitung ulang metrik evaluasi untuk melihat apakah ada peningkatan performa."
      ]
    },
    {
      "cell_type": "code",
      "execution_count": 8,
      "metadata": {
        "id": "HTXZRvEeNMb1"
      },
      "outputs": [],
      "source": [
        "#Type your code here"
      ]
    },
    {
      "cell_type": "markdown",
      "metadata": {
        "id": "ZRsOdm4uEgAW"
      },
      "source": [
        "## **e. Analisis Hasil Evaluasi Model Klasifikasi**"
      ]
    },
    {
      "cell_type": "markdown",
      "metadata": {},
      "source": [
        "### Analisis Hasil Evaluasi Model Klasifikasi\n",
        "Data yang digunakan adalah hasil clustering dari `Beverage_cluster_normalized.csv`, yang telah dinormalisasi dan diberi label cluster. Disini saya menggunakan lima model klasifikasi: K-Nearest Neighbors (KNN), Decision Tree (DT), Random Forest (RF), Support Vector Machine (SVM), dan Naive Bayes (NB). Hasil perbandingan dapat dilihat pada cell diatas.\n",
        "\n",
        "DT dipilih sebagai model terbaik karena skor tertinggi dan selisih kecil antara train (1.0) dan test (0.9975), menunjukkan generalisasi yang baik tanpa overfitting signifikan."
      ]
    }
  ],
  "metadata": {
    "colab": {
      "provenance": []
    },
    "kernelspec": {
      "display_name": "Python 3",
      "name": "python3"
    },
    "language_info": {
      "codemirror_mode": {
        "name": "ipython",
        "version": 3
      },
      "file_extension": ".py",
      "mimetype": "text/x-python",
      "name": "python",
      "nbconvert_exporter": "python",
      "pygments_lexer": "ipython3",
      "version": "3.12.4"
    }
  },
  "nbformat": 4,
  "nbformat_minor": 0
}
